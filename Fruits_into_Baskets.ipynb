{
  "nbformat": 4,
  "nbformat_minor": 0,
  "metadata": {
    "colab": {
      "name": "Fruits into Baskets.ipynb",
      "provenance": [],
      "authorship_tag": "ABX9TyM4HooNrWGNapoIfo1yxzdY",
      "include_colab_link": true
    },
    "kernelspec": {
      "name": "python3",
      "display_name": "Python 3"
    }
  },
  "cells": [
    {
      "cell_type": "markdown",
      "metadata": {
        "id": "view-in-github",
        "colab_type": "text"
      },
      "source": [
        "<a href=\"https://colab.research.google.com/github/mjzarrin/LearningAndroidYamba/blob/master/Fruits_into_Baskets.ipynb\" target=\"_parent\"><img src=\"https://colab.research.google.com/assets/colab-badge.svg\" alt=\"Open In Colab\"/></a>"
      ]
    },
    {
      "cell_type": "markdown",
      "metadata": {
        "id": "2iray0fbG4sV",
        "colab_type": "text"
      },
      "source": [
        "# Question:\n",
        "\n",
        "https://www.educative.io/courses/grokking-the-coding-interview/Bn2KLlOR0lQ\n"
      ]
    },
    {
      "cell_type": "markdown",
      "metadata": {
        "id": "yOsE_uqKS5bI",
        "colab_type": "text"
      },
      "source": [
        "# Solution"
      ]
    },
    {
      "cell_type": "code",
      "metadata": {
        "id": "l6K4Zvh9GzzK",
        "colab_type": "code",
        "colab": {}
      },
      "source": [
        "# longest subarray with two distinct charachters\n",
        "# return length of the window\n",
        "\n",
        "def fruits_into_baskets(fruits):\n",
        "  # TODO: Write your code here\n",
        "  max_lenght = 0\n",
        "  chars = dict()\n",
        "\n",
        "  s_pointer = 0\n",
        "  for i in range(len(fruits)):\n",
        "    if chars.get(fruits[i]) != None:\n",
        "      chars[fruits[i]] = chars[fruits[i]] +1\n",
        "      f_pointer = s_pointer \n",
        "    else:\n",
        "      chars[fruits[i]] = 1\n",
        "    if len(chars) ==2 :\n",
        "      max_lenght = max(sum(chars.values()), max_lenght)\n",
        "    elif len(chars) >2: # ==3\n",
        "      # Move Start Pointer\n",
        "      while len(chars) != 2:\n",
        "        c = chars.get(fruits[s_pointer])\n",
        "        if c == 1 :\n",
        "          chars.pop(fruits[s_pointer])\n",
        "        else:\n",
        "          chars[fruits[s_pointer]] = chars[fruits[s_pointer]] - 1\n",
        "        s_pointer += 1\n",
        " \n",
        "  return max_lenght"
      ],
      "execution_count": 0,
      "outputs": []
    },
    {
      "cell_type": "markdown",
      "metadata": {
        "id": "S_8KN0iPOn3P",
        "colab_type": "text"
      },
      "source": [
        "# Test"
      ]
    },
    {
      "cell_type": "code",
      "metadata": {
        "id": "UnKWFeokHueN",
        "colab_type": "code",
        "outputId": "216aa932-92f4-4d94-9e6a-a8966204ed84",
        "colab": {
          "base_uri": "https://localhost:8080/",
          "height": 51
        }
      },
      "source": [
        "def main():\n",
        "  print(\"Maximum number of fruits: \" + str(fruits_into_baskets(['A', 'B', 'C', 'A', 'C'])))\n",
        "  print(\"Maximum number of fruits: \" + str(fruits_into_baskets(['A', 'B', 'C', 'B', 'B', 'C'])))\n",
        "\n",
        "\n",
        "main()\n"
      ],
      "execution_count": 18,
      "outputs": [
        {
          "output_type": "stream",
          "text": [
            "Maximum number of fruits: 3\n",
            "Maximum number of fruits: 5\n"
          ],
          "name": "stdout"
        }
      ]
    }
  ]
}